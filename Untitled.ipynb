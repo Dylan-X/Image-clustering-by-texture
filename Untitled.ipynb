{
 "cells": [
  {
   "cell_type": "markdown",
   "metadata": {},
   "source": [
    "# Image clustering by texture"
   ]
  },
  {
   "cell_type": "code",
   "execution_count": 37,
   "metadata": {},
   "outputs": [],
   "source": [
    "import os\n",
    "import sys\n",
    "import numpy as np\n",
    "from scipy.misc import imread, imresize\n"
   ]
  },
  {
   "cell_type": "markdown",
   "metadata": {},
   "source": [
    "## Image preparation"
   ]
  },
  {
   "cell_type": "code",
   "execution_count": 43,
   "metadata": {},
   "outputs": [],
   "source": [
    "image_dir = '../datasets/General_val/General_val/'\n",
    "MAX_NUM_IMAGE = 50"
   ]
  },
  {
   "cell_type": "code",
   "execution_count": 14,
   "metadata": {},
   "outputs": [],
   "source": [
    "def _slice_(image, size, stride):\n",
    "    \"\"\"\n",
    "    Slice the image into blocks with stride, which could be reconstructed.\n",
    "    Input:\n",
    "        image : ndarray, 2-D or 3-D numpy array\n",
    "        size : int, size of block\n",
    "        stride : int, stride of slicing. \n",
    "    Return:\n",
    "        N : int, number of blocks.\n",
    "        data : ndarray, numpy array with shape of (N, size, size, channel), and channel will be 1 if image is in grayscale.\n",
    "        (nx, ny) : tuple of two integers, used to merge original image.\n",
    "    \"\"\"\n",
    "    blocks = []\n",
    "    nx = ny = 0\n",
    "    h, w = image.shape[0:2]\n",
    "    if len(image.shape) == 2:\n",
    "        image = image.reshape((h, w, 1))\n",
    "\n",
    "    for x in range(0, h - size + 1, stride):\n",
    "        nx += 1\n",
    "        ny = 0\n",
    "        for y in range(0, w - size + 1, stride):\n",
    "            ny += 1\n",
    "            subim = image[x : x + size, y : y + size, :]        \n",
    "            blocks.append(subim)\n",
    "    N = len(blocks)\n",
    "    data = np.array(blocks)\n",
    "    return N, data, (nx, ny)"
   ]
  },
  {
   "cell_type": "code",
   "execution_count": 48,
   "metadata": {},
   "outputs": [],
   "source": [
    "def load_pic(image_dir):\n",
    "    for i, filename in enumerate(sorted(os.listdir(image_dir))):\n",
    "        if i >= MAX_NUM_IMAGE:\n",
    "            break\n",
    "        image = imread(os.path.join(image_dir, filename), 'F')\n",
    "        N, data, _ = _slice_(image, 48, 24)\n",
    "        if i == 0:\n",
    "            blocks = data\n",
    "        blocks = np.concatenate((blocks, data))\n",
    "            \n",
    "        sys.stdout.write(\"\\r...%d image has sliced, %d remaind...\"%(i+1, MAX_NUM_IMAGE-i-1))\n",
    "    return blocks\n",
    "        "
   ]
  },
  {
   "cell_type": "code",
   "execution_count": 49,
   "metadata": {},
   "outputs": [
    {
     "name": "stderr",
     "output_type": "stream",
     "text": [
      "/home/wgy/anaconda3/lib/python3.6/site-packages/ipykernel_launcher.py:5: DeprecationWarning: `imread` is deprecated!\n",
      "`imread` is deprecated in SciPy 1.0.0, and will be removed in 1.2.0.\n",
      "Use ``imageio.imread`` instead.\n",
      "  \"\"\"\n"
     ]
    },
    {
     "name": "stdout",
     "output_type": "stream",
     "text": [
      "...50 image has sliced, 0 remaind...."
     ]
    }
   ],
   "source": [
    "blocks = load_pic(image_dir)"
   ]
  },
  {
   "cell_type": "code",
   "execution_count": 50,
   "metadata": {},
   "outputs": [
    {
     "name": "stdout",
     "output_type": "stream",
     "text": [
      "(18018, 48, 48, 1)\n"
     ]
    }
   ],
   "source": [
    "print(blocks.shape)"
   ]
  },
  {
   "cell_type": "code",
   "execution_count": null,
   "metadata": {},
   "outputs": [],
   "source": []
  }
 ],
 "metadata": {
  "kernelspec": {
   "display_name": "Python 3",
   "language": "python",
   "name": "python3"
  },
  "language_info": {
   "codemirror_mode": {
    "name": "ipython",
    "version": 3
   },
   "file_extension": ".py",
   "mimetype": "text/x-python",
   "name": "python",
   "nbconvert_exporter": "python",
   "pygments_lexer": "ipython3",
   "version": "3.6.4"
  }
 },
 "nbformat": 4,
 "nbformat_minor": 2
}
